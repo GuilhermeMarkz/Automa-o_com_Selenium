{
 "cells": [
  {
   "cell_type": "code",
   "execution_count": 3,
   "id": "2fe1a5d3-919d-404b-b6aa-5809091a39ca",
   "metadata": {},
   "outputs": [],
   "source": [
    "from selenium import webdriver\n",
    "from selenium.webdriver.common.by import By\n",
    "from selenium.webdriver.chrome.service import Service\n",
    "from reportlab.pdfgen import canvas\n",
    "import time"
   ]
  },
  {
   "cell_type": "code",
   "execution_count": 35,
   "id": "5615e8bc-fa63-45ab-b71c-0bb385214230",
   "metadata": {},
   "outputs": [],
   "source": [
    "# Função para capturar a temperatura\n",
    "def capturar_temperatura():\n",
    " # Configurar o Selenium\n",
    "    service = Service('C:/Users/Bezerra/Documents/ablublé/teti2024/chromedriver.exe') # Ajuste o caminho do seu driver\n",
    "    options = webdriver.ChromeOptions()\n",
    "    options.add_argument('--headless') # Executar sem abrir o navegador\n",
    "    options.add_argument('--no-sandbox')\n",
    "    driver = webdriver.Chrome(service=service, options=options)\n",
    "\n",
    " # Acessar o site de cotação\n",
    "    url = \"https://www.google.com/search?q=temperatura+manaus&rlz=1C1CHZN_pt-BRBR1019BR1019&oq=temperatura&gs_lcrp=EgZjaHJvbWUqDAgAEAAYRhiAAhiABDIMCAAQABhGGIACGIAEMg8IARBFGDkYsQMYyQMYgAQyDQgCEAAYkgMYgAQYigUyBwgDEAAYgAQyCggEEAAYsQMYgAQyCggFEAAYsQMYgAQyCggGEAAYsQMYgAQyBwgHEAAYgAQyBwgIEAAYjwIyBwgJEAAYjwLSAQgzOTQwajBqN6gCALACAA&sourceid=chrome&ie=UTF-8\"\n",
    "    driver.get(url)\n",
    "    time.sleep(2) # Aguardar carregamento\n",
    "\n",
    " # Capturar o valor da temperatura\n",
    "    try:\n",
    "        elemento_temperatura = driver.find_element(By.XPATH, \"//span[contains(@class,'wob_t q8U8x')]\")\n",
    "        temperatura = elemento_temperatura.text\n",
    "    except Exception as e:\n",
    "        print(\"Erro ao capturar a temperatura:\", e)\n",
    "        temperatura = None\n",
    "\n",
    "    driver.quit()\n",
    "    return temperatura"
   ]
  },
  {
   "cell_type": "code",
   "execution_count": 36,
   "id": "732b30ba-fed3-45d2-8a3c-97627213d82f",
   "metadata": {},
   "outputs": [],
   "source": [
    "# Função para capturar o nível do Rio Negro\n",
    "def capturar_nivel_rionegro():\n",
    "    # Caminho para o ChromeDriver\n",
    "    service = Service('C:/Users/Bezerra/Documents/ablublé/teti2024/chromedriver.exe')  # Ajuste o caminho do seu driver\n",
    "    options = webdriver.ChromeOptions()\n",
    "    options.add_argument('--headless')  # Executar sem abrir o navegador\n",
    "    options.add_argument('--no-sandbox')\n",
    "\n",
    "    # Inicializar o WebDriver\n",
    "    driver = webdriver.Chrome(service=service, options=options)\n",
    "\n",
    "    # Acessar o site de nível do Rio Negro\n",
    "    url = \"https://portodemanaus.com.br/nivel-do-rio-negro/\"\n",
    "    driver.get(url)\n",
    "    time.sleep(4)  # Aguardar o carregamento da página\n",
    "\n",
    "    # Capturar o valor do nível do Rio Negro\n",
    "    try:\n",
    "        elemento_nivel = driver.find_element(By.XPATH, \"//span[@class='elementor-counter-number']\")\n",
    "        nivel = elemento_nivel.text\n",
    "    except Exception as e:\n",
    "        print(\"Erro ao capturar o nível do rio:\", e)\n",
    "        nivel = None\n",
    "\n",
    "    driver.quit()\n",
    "    return nivel"
   ]
  },
  {
   "cell_type": "code",
   "execution_count": 40,
   "id": "f41199c0-c4fd-4fc3-8579-ad9624f48354",
   "metadata": {},
   "outputs": [],
   "source": [
    "def gerar_pdf(temperatura, nivel):\n",
    "    nome_arquivo = \"temperatura_nivel_rionegro.pdf\"\n",
    "    c = canvas.Canvas(nome_arquivo)\n",
    "    c.drawString(100, 750, \"Amostra da temperatura de Manaus e nivel do Rio Negro para analise de correlatividade\")\n",
    "    c.drawString(100, 700, f\"Data: {time.strftime('%d/%m/%Y %H:%M:%S')}\")\n",
    "    c.drawString(100, 650, f\"Temperatura atual de Manaus: {temperatura}\")\n",
    "    c.drawString(100, 600, f\"Nivel do Rio Negro: {nivel}\")\n",
    "    c.save()\n",
    "    print(f\"Relatório salvo como: {nome_arquivo}\")"
   ]
  },
  {
   "cell_type": "code",
   "execution_count": 41,
   "id": "60fefc1c-4a9a-4fa0-92b7-467072b0e65a",
   "metadata": {},
   "outputs": [
    {
     "name": "stdout",
     "output_type": "stream",
     "text": [
      "Temperatura em Manaus: 26°\n",
      "Nivel do Rio Negro: 14.26m\n",
      "Relatório salvo como: temperatura_nivel_rionegro.pdf\n"
     ]
    }
   ],
   "source": [
    "# Fluxo principal\n",
    "if __name__ == \"__main__\":\n",
    "    temperatura_manaus = capturar_temperatura()\n",
    "    \n",
    "    nivel_rionegro = capturar_nivel_rionegro()\n",
    "    \n",
    "    if temperatura_manaus:\n",
    "        if nivel_rionegro:\n",
    "            print(f\"Temperatura em Manaus: {temperatura_manaus}°\")\n",
    "            print(f\"Nivel do Rio Negro: {nivel_rionegro}m\")\n",
    "            gerar_pdf(temperatura_manaus, nivel_rionegro)\n",
    "        else:\n",
    "            print(\"Não foi possível capturar o nivel do rio negro.\")\n",
    "    else:\n",
    "        print(\"Não foi possível capturar a temperatura.\")"
   ]
  },
  {
   "cell_type": "code",
   "execution_count": null,
   "id": "7d470406-1462-47b4-996b-a0ce2720f910",
   "metadata": {},
   "outputs": [],
   "source": []
  }
 ],
 "metadata": {
  "kernelspec": {
   "display_name": "Python 3 (ipykernel)",
   "language": "python",
   "name": "python3"
  },
  "language_info": {
   "codemirror_mode": {
    "name": "ipython",
    "version": 3
   },
   "file_extension": ".py",
   "mimetype": "text/x-python",
   "name": "python",
   "nbconvert_exporter": "python",
   "pygments_lexer": "ipython3",
   "version": "3.10.15"
  }
 },
 "nbformat": 4,
 "nbformat_minor": 5
}
